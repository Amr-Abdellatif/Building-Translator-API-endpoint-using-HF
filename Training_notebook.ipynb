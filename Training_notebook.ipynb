{
 "cells": [
  {
   "cell_type": "code",
   "execution_count": null,
   "metadata": {},
   "outputs": [],
   "source": [
    "from huggingface_hub import notebook_login\n",
    "\n",
    "notebook_login()"
   ]
  },
  {
   "cell_type": "code",
   "execution_count": 23,
   "metadata": {},
   "outputs": [
    {
     "data": {
      "text/plain": [
       "DatasetDict({\n",
       "    train: Dataset({\n",
       "        features: ['id', 'translation'],\n",
       "        num_rows: 127085\n",
       "    })\n",
       "})"
      ]
     },
     "execution_count": 23,
     "metadata": {},
     "output_type": "execute_result"
    }
   ],
   "source": [
    "from datasets import load_dataset\n",
    "\n",
    "books = load_dataset(\"opus_books\", \"en-fr\")\n",
    "books"
   ]
  },
  {
   "cell_type": "code",
   "execution_count": 3,
   "metadata": {},
   "outputs": [],
   "source": [
    "books = books[\"train\"].train_test_split(test_size=0.2)"
   ]
  },
  {
   "cell_type": "code",
   "execution_count": 4,
   "metadata": {},
   "outputs": [
    {
     "data": {
      "text/plain": [
       "{'id': '101876',\n",
       " 'translation': {'en': 'Pencroft and Neb, during this time, had gone to fetch the boat, moored a few hundred feet higher up, on the bank of the Mercy, and by the time they returned, Ayrton was ready to start.',\n",
       "  'fr': 'Pencroff et Nab, pendant ce temps, étaient allés chercher la pirogue, amarrée quelques centaines de pas plus haut, sur la berge de la Mercy, et, quand ils revinrent, Ayrton était prêt à partir.'}}"
      ]
     },
     "execution_count": 4,
     "metadata": {},
     "output_type": "execute_result"
    }
   ],
   "source": [
    "books[\"train\"][0]"
   ]
  },
  {
   "cell_type": "code",
   "execution_count": 5,
   "metadata": {},
   "outputs": [],
   "source": [
    "from transformers import AutoTokenizer\n",
    "\n",
    "checkpoint = \"google-t5/t5-small\"\n",
    "tokenizer = AutoTokenizer.from_pretrained(checkpoint)"
   ]
  },
  {
   "cell_type": "code",
   "execution_count": 6,
   "metadata": {},
   "outputs": [],
   "source": [
    "source_lang = \"en\"\n",
    "target_lang = \"fr\"\n",
    "prefix = \"translate English to French: \"\n",
    "\n",
    "\n",
    "def preprocess_function(examples):\n",
    "    inputs = [prefix + example[source_lang] for example in examples[\"translation\"]]\n",
    "    targets = [example[target_lang] for example in examples[\"translation\"]]\n",
    "    model_inputs = tokenizer(inputs, text_target=targets, max_length=128, truncation=True)\n",
    "    return model_inputs"
   ]
  },
  {
   "cell_type": "code",
   "execution_count": 7,
   "metadata": {},
   "outputs": [
    {
     "data": {
      "application/vnd.jupyter.widget-view+json": {
       "model_id": "ad68b1958a204439bd4de1f1975ef16d",
       "version_major": 2,
       "version_minor": 0
      },
      "text/plain": [
       "Map:   0%|          | 0/101668 [00:00<?, ? examples/s]"
      ]
     },
     "metadata": {},
     "output_type": "display_data"
    },
    {
     "data": {
      "application/vnd.jupyter.widget-view+json": {
       "model_id": "98c1a36135fc4f29b84f39dc0aaacc92",
       "version_major": 2,
       "version_minor": 0
      },
      "text/plain": [
       "Map:   0%|          | 0/25417 [00:00<?, ? examples/s]"
      ]
     },
     "metadata": {},
     "output_type": "display_data"
    }
   ],
   "source": [
    "tokenized_books = books.map(preprocess_function, batched=True)"
   ]
  },
  {
   "cell_type": "code",
   "execution_count": 8,
   "metadata": {},
   "outputs": [],
   "source": [
    "from transformers import DataCollatorForSeq2Seq\n",
    "\n",
    "data_collator = DataCollatorForSeq2Seq(tokenizer=tokenizer, model=checkpoint)"
   ]
  },
  {
   "cell_type": "code",
   "execution_count": 9,
   "metadata": {},
   "outputs": [],
   "source": [
    "import evaluate\n",
    "\n",
    "metric = evaluate.load(\"sacrebleu\")"
   ]
  },
  {
   "cell_type": "code",
   "execution_count": 10,
   "metadata": {},
   "outputs": [],
   "source": [
    "import numpy as np\n",
    "\n",
    "\n",
    "def postprocess_text(preds, labels):\n",
    "    preds = [pred.strip() for pred in preds]\n",
    "    labels = [[label.strip()] for label in labels]\n",
    "\n",
    "    return preds, labels\n",
    "\n",
    "\n",
    "def compute_metrics(eval_preds):\n",
    "    preds, labels = eval_preds\n",
    "    if isinstance(preds, tuple):\n",
    "        preds = preds[0]\n",
    "    decoded_preds = tokenizer.batch_decode(preds, skip_special_tokens=True)\n",
    "\n",
    "    labels = np.where(labels != -100, labels, tokenizer.pad_token_id)\n",
    "    decoded_labels = tokenizer.batch_decode(labels, skip_special_tokens=True)\n",
    "\n",
    "    decoded_preds, decoded_labels = postprocess_text(decoded_preds, decoded_labels)\n",
    "\n",
    "    result = metric.compute(predictions=decoded_preds, references=decoded_labels)\n",
    "    result = {\"bleu\": result[\"score\"]}\n",
    "\n",
    "    prediction_lens = [np.count_nonzero(pred != tokenizer.pad_token_id) for pred in preds]\n",
    "    result[\"gen_len\"] = np.mean(prediction_lens)\n",
    "    result = {k: round(v, 4) for k, v in result.items()}\n",
    "    return result"
   ]
  },
  {
   "cell_type": "code",
   "execution_count": 11,
   "metadata": {},
   "outputs": [],
   "source": [
    "from transformers import AutoModelForSeq2SeqLM, Seq2SeqTrainingArguments, Seq2SeqTrainer\n",
    "\n",
    "model = AutoModelForSeq2SeqLM.from_pretrained(checkpoint)"
   ]
  },
  {
   "cell_type": "code",
   "execution_count": 12,
   "metadata": {},
   "outputs": [
    {
     "name": "stderr",
     "output_type": "stream",
     "text": [
      "c:\\Users\\Amr osama abdellatif\\AppData\\Local\\Programs\\Python\\Python310\\lib\\site-packages\\accelerate\\accelerator.py:436: FutureWarning: Passing the following arguments to `Accelerator` is deprecated and will be removed in version 1.0 of Accelerate: dict_keys(['dispatch_batches', 'split_batches', 'even_batches', 'use_seedable_sampler']). Please pass an `accelerate.DataLoaderConfiguration` instead: \n",
      "dataloader_config = DataLoaderConfiguration(dispatch_batches=None, split_batches=False, even_batches=True, use_seedable_sampler=True)\n",
      "  warnings.warn(\n"
     ]
    },
    {
     "data": {
      "application/vnd.jupyter.widget-view+json": {
       "model_id": "c0a12fed0af840b29a636b11e4ae8ba5",
       "version_major": 2,
       "version_minor": 0
      },
      "text/plain": [
       "  0%|          | 0/12710 [00:00<?, ?it/s]"
      ]
     },
     "metadata": {},
     "output_type": "display_data"
    },
    {
     "name": "stdout",
     "output_type": "stream",
     "text": [
      "{'loss': 2.1128, 'grad_norm': 1.3909549713134766, 'learning_rate': 1.9213217938631003e-05, 'epoch': 0.08}\n",
      "{'loss': 2.002, 'grad_norm': 1.2674825191497803, 'learning_rate': 1.8426435877261997e-05, 'epoch': 0.16}\n",
      "{'loss': 1.9818, 'grad_norm': 1.2479631900787354, 'learning_rate': 1.7639653815893e-05, 'epoch': 0.24}\n",
      "{'loss': 1.9346, 'grad_norm': 1.1362398862838745, 'learning_rate': 1.6852871754524e-05, 'epoch': 0.31}\n",
      "{'loss': 1.9303, 'grad_norm': 1.224910855293274, 'learning_rate': 1.6067663257277734e-05, 'epoch': 0.39}\n",
      "{'loss': 1.9153, 'grad_norm': 1.3740708827972412, 'learning_rate': 1.5280881195908735e-05, 'epoch': 0.47}\n",
      "{'loss': 1.888, 'grad_norm': 1.3049758672714233, 'learning_rate': 1.4494099134539735e-05, 'epoch': 0.55}\n",
      "{'loss': 1.8998, 'grad_norm': 1.3628268241882324, 'learning_rate': 1.3707317073170734e-05, 'epoch': 0.63}\n",
      "{'loss': 1.8733, 'grad_norm': 1.4406628608703613, 'learning_rate': 1.292210857592447e-05, 'epoch': 0.71}\n",
      "{'loss': 1.8443, 'grad_norm': 1.3113832473754883, 'learning_rate': 1.213532651455547e-05, 'epoch': 0.79}\n",
      "{'loss': 1.857, 'grad_norm': 1.4487074613571167, 'learning_rate': 1.1348544453186468e-05, 'epoch': 0.87}\n",
      "{'loss': 1.8799, 'grad_norm': 1.1310144662857056, 'learning_rate': 1.0561762391817467e-05, 'epoch': 0.94}\n"
     ]
    },
    {
     "name": "stderr",
     "output_type": "stream",
     "text": [
      "c:\\Users\\Amr osama abdellatif\\AppData\\Local\\Programs\\Python\\Python310\\lib\\site-packages\\transformers\\generation\\utils.py:1178: UserWarning: Using the model-agnostic default `max_length` (=20) to control the generation length. We recommend setting `max_new_tokens` to control the maximum length of the generation.\n",
      "  warnings.warn(\n"
     ]
    },
    {
     "data": {
      "application/vnd.jupyter.widget-view+json": {
       "model_id": "7ee0c0f25ef9429fa7f52db938e5b816",
       "version_major": 2,
       "version_minor": 0
      },
      "text/plain": [
       "  0%|          | 0/1589 [00:00<?, ?it/s]"
      ]
     },
     "metadata": {},
     "output_type": "display_data"
    },
    {
     "name": "stdout",
     "output_type": "stream",
     "text": [
      "{'eval_loss': 1.6306092739105225, 'eval_bleu': 5.5635, 'eval_gen_len': 17.6017, 'eval_runtime': 366.9432, 'eval_samples_per_second': 69.267, 'eval_steps_per_second': 4.33, 'epoch': 1.0}\n",
      "{'loss': 1.8459, 'grad_norm': 1.656699299812317, 'learning_rate': 9.776553894571205e-06, 'epoch': 1.02}\n",
      "{'loss': 1.8388, 'grad_norm': 1.1598753929138184, 'learning_rate': 8.989771833202203e-06, 'epoch': 1.1}\n",
      "{'loss': 1.8375, 'grad_norm': 1.5924371480941772, 'learning_rate': 8.202989771833204e-06, 'epoch': 1.18}\n",
      "{'loss': 1.831, 'grad_norm': 1.3244783878326416, 'learning_rate': 7.416207710464202e-06, 'epoch': 1.26}\n",
      "{'loss': 1.838, 'grad_norm': 1.0659116506576538, 'learning_rate': 6.630999213217939e-06, 'epoch': 1.34}\n",
      "{'loss': 1.832, 'grad_norm': 1.2019505500793457, 'learning_rate': 5.844217151848939e-06, 'epoch': 1.42}\n",
      "{'loss': 1.8319, 'grad_norm': 1.353132963180542, 'learning_rate': 5.057435090479937e-06, 'epoch': 1.49}\n",
      "{'loss': 1.8105, 'grad_norm': 1.3671542406082153, 'learning_rate': 4.270653029110937e-06, 'epoch': 1.57}\n",
      "{'loss': 1.8241, 'grad_norm': 1.162704348564148, 'learning_rate': 3.485444531864674e-06, 'epoch': 1.65}\n",
      "{'loss': 1.8202, 'grad_norm': 1.4975831508636475, 'learning_rate': 2.6986624704956728e-06, 'epoch': 1.73}\n",
      "{'loss': 1.8183, 'grad_norm': 1.2605476379394531, 'learning_rate': 1.911880409126672e-06, 'epoch': 1.81}\n",
      "{'loss': 1.8242, 'grad_norm': 1.3412511348724365, 'learning_rate': 1.1250983477576713e-06, 'epoch': 1.89}\n",
      "{'loss': 1.8172, 'grad_norm': 1.3459752798080444, 'learning_rate': 3.414634146341464e-07, 'epoch': 1.97}\n"
     ]
    },
    {
     "name": "stderr",
     "output_type": "stream",
     "text": [
      "c:\\Users\\Amr osama abdellatif\\AppData\\Local\\Programs\\Python\\Python310\\lib\\site-packages\\transformers\\generation\\utils.py:1178: UserWarning: Using the model-agnostic default `max_length` (=20) to control the generation length. We recommend setting `max_new_tokens` to control the maximum length of the generation.\n",
      "  warnings.warn(\n"
     ]
    },
    {
     "data": {
      "application/vnd.jupyter.widget-view+json": {
       "model_id": "ebe550293ff847af8bdddb32ccaf59d5",
       "version_major": 2,
       "version_minor": 0
      },
      "text/plain": [
       "  0%|          | 0/1589 [00:00<?, ?it/s]"
      ]
     },
     "metadata": {},
     "output_type": "display_data"
    },
    {
     "name": "stdout",
     "output_type": "stream",
     "text": [
      "{'eval_loss': 1.6068373918533325, 'eval_bleu': 5.7232, 'eval_gen_len': 17.5852, 'eval_runtime': 361.9954, 'eval_samples_per_second': 70.214, 'eval_steps_per_second': 4.39, 'epoch': 2.0}\n",
      "{'train_runtime': 2256.1358, 'train_samples_per_second': 90.126, 'train_steps_per_second': 5.634, 'train_loss': 1.8749637054515391, 'epoch': 2.0}\n"
     ]
    },
    {
     "data": {
      "text/plain": [
       "TrainOutput(global_step=12710, training_loss=1.8749637054515391, metrics={'train_runtime': 2256.1358, 'train_samples_per_second': 90.126, 'train_steps_per_second': 5.634, 'train_loss': 1.8749637054515391, 'epoch': 2.0})"
      ]
     },
     "execution_count": 12,
     "metadata": {},
     "output_type": "execute_result"
    }
   ],
   "source": [
    "training_args = Seq2SeqTrainingArguments(\n",
    "    output_dir=\"my_awesome_opus_books_model\",\n",
    "    evaluation_strategy=\"epoch\",\n",
    "    learning_rate=2e-5,\n",
    "    per_device_train_batch_size=16,\n",
    "    per_device_eval_batch_size=16,\n",
    "    weight_decay=0.01,\n",
    "    save_total_limit=3,\n",
    "    num_train_epochs=2,\n",
    "    predict_with_generate=True,\n",
    "    fp16=True,\n",
    "    push_to_hub=True,\n",
    ")\n",
    "\n",
    "trainer = Seq2SeqTrainer(\n",
    "    model=model,\n",
    "    args=training_args,\n",
    "    train_dataset=tokenized_books[\"train\"],\n",
    "    eval_dataset=tokenized_books[\"test\"],\n",
    "    tokenizer=tokenizer,\n",
    "    data_collator=data_collator,\n",
    "    compute_metrics=compute_metrics,\n",
    ")\n",
    "\n",
    "trainer.train()"
   ]
  },
  {
   "cell_type": "code",
   "execution_count": 13,
   "metadata": {},
   "outputs": [],
   "source": [
    "text = \"translate English to French: Legumes share resources with nitrogen-fixing bacteria.\""
   ]
  },
  {
   "cell_type": "code",
   "execution_count": 14,
   "metadata": {},
   "outputs": [
    {
     "data": {
      "text/plain": [
       "[{'translation_text': 'Les légumes partagent les ressources avec les bactéries fixatrice'}]"
      ]
     },
     "execution_count": 14,
     "metadata": {},
     "output_type": "execute_result"
    }
   ],
   "source": [
    "from transformers import pipeline\n",
    "\n",
    "translator = pipeline(\"translation_xx_to_yy\", model=\"my_awesome_opus_books_model\")\n",
    "translator(text)"
   ]
  },
  {
   "cell_type": "code",
   "execution_count": 18,
   "metadata": {},
   "outputs": [
    {
     "data": {
      "text/plain": [
       "[{'translation_text': 'el praise the Lord'}]"
      ]
     },
     "execution_count": 18,
     "metadata": {},
     "output_type": "execute_result"
    }
   ],
   "source": [
    "text = \"praise the lord\"\n",
    "from transformers import pipeline\n",
    "\n",
    "translator = pipeline(\"translation_xx_to_yy\", model=\"my_awesome_opus_books_model\")\n",
    "translator(text)"
   ]
  },
  {
   "cell_type": "code",
   "execution_count": null,
   "metadata": {},
   "outputs": [],
   "source": []
  }
 ],
 "metadata": {
  "kernelspec": {
   "display_name": "Python 3",
   "language": "python",
   "name": "python3"
  },
  "language_info": {
   "codemirror_mode": {
    "name": "ipython",
    "version": 3
   },
   "file_extension": ".py",
   "mimetype": "text/x-python",
   "name": "python",
   "nbconvert_exporter": "python",
   "pygments_lexer": "ipython3",
   "version": "3.10.4"
  },
  "orig_nbformat": 4
 },
 "nbformat": 4,
 "nbformat_minor": 2
}
